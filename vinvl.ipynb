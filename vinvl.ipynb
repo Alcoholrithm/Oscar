{
 "cells": [
  {
   "cell_type": "code",
   "execution_count": null,
   "metadata": {},
   "outputs": [],
   "source": [
    "import torch\n",
    "import cv2\n",
    "from oscar_scripts.captioning_decoder import Decoder\n",
    "from oscar_scripts.vinvl_encoder import Encoder"
   ]
  },
  {
   "cell_type": "code",
   "execution_count": null,
   "metadata": {},
   "outputs": [],
   "source": [
    "img1 = cv2.imread('scene_graph_benchmark/bear.jpg', cv2.IMREAD_UNCHANGED)\n",
    "img2 = cv2.imread('/workspace/airplane.jpg', cv2.IMREAD_UNCHANGED)\n",
    "img3 = cv2.imread('/workspace/car_person.jpg', cv2.IMREAD_UNCHANGED)"
   ]
  },
  {
   "cell_type": "code",
   "execution_count": null,
   "metadata": {},
   "outputs": [],
   "source": [
    "encoder = Encoder()\n",
    "decoder = Decoder('/workspace/Oscar/output/checkpoint-59-554820/', 'cuda')"
   ]
  },
  {
   "cell_type": "code",
   "execution_count": null,
   "metadata": {},
   "outputs": [],
   "source": [
    "decoder.decode(*encoder.encode([img1, img2, img3]))"
   ]
  },
  {
   "cell_type": "code",
   "execution_count": null,
   "metadata": {},
   "outputs": [],
   "source": [
    "torch.cuda.empty_cache()"
   ]
  }
 ],
 "metadata": {
  "interpreter": {
   "hash": "74e4a35787308bc889be406a76744471ca2617d3fd471f93d287c951dbf5286c"
  },
  "kernelspec": {
   "display_name": "Python 3.7.10 64-bit ('oscar': conda)",
   "name": "python3"
  },
  "language_info": {
   "name": "python",
   "version": ""
  },
  "orig_nbformat": 4
 },
 "nbformat": 4,
 "nbformat_minor": 2
}